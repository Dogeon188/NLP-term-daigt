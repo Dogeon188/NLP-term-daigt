{
 "cells": [
  {
   "cell_type": "code",
   "execution_count": 7,
   "metadata": {},
   "outputs": [],
   "source": [
    "import os\n",
    "\n",
    "if not os.path.exists('data'):\n",
    "    os.makedirs('data')"
   ]
  },
  {
   "cell_type": "code",
   "execution_count": 8,
   "metadata": {},
   "outputs": [
    {
     "name": "stdout",
     "output_type": "stream",
     "text": [
      "Downloading llm-detect-ai-generated-text.zip to /Users/dogeon/Documents/code/py/nlp/final\n",
      "100%|██████████████████████████████████████| 1.38M/1.38M [00:00<00:00, 1.56MB/s]\n",
      "100%|██████████████████████████████████████| 1.38M/1.38M [00:00<00:00, 1.46MB/s]\n",
      "Archive:  llm-detect-ai-generated-text.zip\n",
      "  inflating: data/llm-detect-ai-generated-text/sample_submission.csv  \n",
      "  inflating: data/llm-detect-ai-generated-text/test_essays.csv  \n",
      "  inflating: data/llm-detect-ai-generated-text/train_essays.csv  \n",
      "  inflating: data/llm-detect-ai-generated-text/train_prompts.csv  \n"
     ]
    }
   ],
   "source": [
    "# Download main dataset\n",
    "!kaggle competitions download -c llm-detect-ai-generated-text\n",
    "!unzip llm-detect-ai-generated-text.zip -d data/llm-detect-ai-generated-text\n",
    "!rm llm-detect-ai-generated-text.zip"
   ]
  },
  {
   "cell_type": "code",
   "execution_count": null,
   "metadata": {},
   "outputs": [
    {
     "name": "stdout",
     "output_type": "stream",
     "text": [
      "Dataset URL: https://www.kaggle.com/datasets/thedrcat/daigt-proper-train-dataset\n",
      "License(s): MIT\n",
      "train_drcat_04.csv.zip: Skipping, found more recently modified local copy (use --force to force download)\n",
      "Archive:  train_drcat_04.csv.zip\n",
      "  inflating: data/daigt-proper-train-dataset/train_drcat_04.csv  \n"
     ]
    }
   ],
   "source": [
    "# Download additional dataset (daigt-proper-train-dataset)\n",
    "\n",
    "!kaggle datasets download thedrcat/daigt-proper-train-dataset -f train_drcat_04.csv\n",
    "!unzip train_drcat_04.csv -d data/daigt-proper-train-dataset\n",
    "!rm train_drcat_04.csv.zip\n",
    "# !kaggle datasets download thedrcat/daigt-proper-train-dataset/train_drcat_04.csv"
   ]
  },
  {
   "cell_type": "code",
   "execution_count": 10,
   "metadata": {},
   "outputs": [
    {
     "name": "stdout",
     "output_type": "stream",
     "text": [
      "Dataset URL: https://www.kaggle.com/datasets/alejopaullier/argugpt\n",
      "License(s): unknown\n",
      "Downloading argugpt.csv.zip to /Users/dogeon/Documents/code/py/nlp/final\n",
      "100%|██████████████████████████████████████| 1.63M/1.63M [00:00<00:00, 2.64MB/s]\n",
      "100%|██████████████████████████████████████| 1.63M/1.63M [00:00<00:00, 2.48MB/s]\n",
      "Archive:  argugpt.csv.zip\n",
      "  inflating: data/argugpt/argugpt.csv  \n"
     ]
    }
   ],
   "source": [
    "# Download additional dataset\n",
    "!kaggle datasets download alejopaullier/argugpt -f argugpt.csv\n",
    "!unzip argugpt.csv -d data/argugpt\n",
    "!rm argugpt.csv.zip"
   ]
  }
 ],
 "metadata": {
  "kernelspec": {
   "display_name": ".venv",
   "language": "python",
   "name": "python3"
  },
  "language_info": {
   "codemirror_mode": {
    "name": "ipython",
    "version": 3
   },
   "file_extension": ".py",
   "mimetype": "text/x-python",
   "name": "python",
   "nbconvert_exporter": "python",
   "pygments_lexer": "ipython3",
   "version": "3.12.6"
  }
 },
 "nbformat": 4,
 "nbformat_minor": 2
}
